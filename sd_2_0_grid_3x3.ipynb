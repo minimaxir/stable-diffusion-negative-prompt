{
  "cells": [
    {
      "cell_type": "markdown",
      "source": [
        "# Stable Diffusion 2.0 3x3 Grid\n",
        "\n",
        "by Max Woolf (@minimaxir)\n",
        "\n",
        "A notebook to generate images using Stable Diffusion 2.0 in a 3x3 grid using a cross of positive prompt additions and negative prompts/tokens.\n",
        "\n",
        "You will need a login at [Hugging Face](https://huggingface.co) in order to download Stable Diffusion."
      ],
      "metadata": {
        "id": "P4QgkqpmlzC6"
      },
      "id": "P4QgkqpmlzC6"
    },
    {
      "cell_type": "code",
      "source": [
        "!nvidia-smi"
      ],
      "metadata": {
        "id": "N2_SUrwrlzq3"
      },
      "id": "N2_SUrwrlzq3",
      "execution_count": null,
      "outputs": []
    },
    {
      "cell_type": "code",
      "source": [
        "!pip install -qq diffusers[\"torch\"] transformers\n",
        "!pip install -qq \"ipywidgets>=7,<8\""
      ],
      "metadata": {
        "id": "mrH1twPfl1qs"
      },
      "id": "mrH1twPfl1qs",
      "execution_count": null,
      "outputs": []
    },
    {
      "cell_type": "code",
      "execution_count": null,
      "id": "8c617c49-1e57-455d-9776-a96a26cfc93a",
      "metadata": {
        "id": "8c617c49-1e57-455d-9776-a96a26cfc93a"
      },
      "outputs": [],
      "source": [
        "from diffusers import StableDiffusionPipeline, EulerAncestralDiscreteScheduler\n",
        "import torch\n",
        "from PIL import Image, ImageDraw, ImageFont\n",
        "import os\n",
        "from copy import deepcopy\n",
        "from transformers import CLIPTextModel, CLIPTokenizer\n",
        "import requests\n",
        "from huggingface_hub import notebook_login, hf_hub_url\n",
        "import zipfile\n",
        "\n",
        "model_id = \"stabilityai/stable-diffusion-2-base\"\n",
        "\n",
        "def image_grid(imgs, rows, cols):\n",
        "    assert len(imgs) == rows*cols\n",
        "\n",
        "    w, h = imgs[0].size\n",
        "    grid = Image.new('RGB', size=(cols*w, rows*h))\n",
        "    \n",
        "    for i, img in enumerate(imgs):\n",
        "        grid.paste(img, box=(i%cols*w, i//cols*h))\n",
        "    return grid"
      ]
    },
    {
      "cell_type": "markdown",
      "source": [
        "This cell downloads the `<wrong>` and `<midjourney>` embeds (in testing this cell can hang; if so, retry."
      ],
      "metadata": {
        "id": "hZUQoeyql7l8"
      },
      "id": "hZUQoeyql7l8"
    },
    {
      "cell_type": "code",
      "source": [
        "if not os.path.exists(\"midjourney.bin\"):\n",
        "    token_url=hf_hub_url(repo_id=\"minimaxir/wrong_embedding_sd_2_0\",\n",
        "                        filename=\"learned_embeds.bin\")\n",
        "    r = requests.get(token_url)\n",
        "    open('wrong.bin', 'wb').write(r.content)\n",
        "\n",
        "    token_url=hf_hub_url(repo_id=\"minimaxir/midjourney_sd_2_0\",\n",
        "                        filename=\"learned_embeds.bin\")\n",
        "    r = requests.get(token_url)\n",
        "    open('midjourney.bin', 'wb').write(r.content)"
      ],
      "metadata": {
        "id": "ICva3yTll777"
      },
      "id": "ICva3yTll777",
      "execution_count": null,
      "outputs": []
    },
    {
      "cell_type": "code",
      "source": [
        "notebook_login()"
      ],
      "metadata": {
        "id": "uhLeyij9nU9n"
      },
      "id": "uhLeyij9nU9n",
      "execution_count": null,
      "outputs": []
    },
    {
      "cell_type": "code",
      "execution_count": null,
      "id": "345ebdfc-e912-4053-8b4c-31c481b3f74f",
      "metadata": {
        "id": "345ebdfc-e912-4053-8b4c-31c481b3f74f"
      },
      "outputs": [],
      "source": [
        "tokenizer = CLIPTokenizer.from_pretrained(\n",
        "    model_id,\n",
        "    subfolder=\"tokenizer\",\n",
        "    use_auth_token=True,\n",
        ")\n",
        "text_encoder = CLIPTextModel.from_pretrained(\n",
        "    model_id, subfolder=\"text_encoder\", use_auth_token=True\n",
        ")\n",
        "\n",
        "vocab_size = tokenizer.vocab_size"
      ]
    },
    {
      "cell_type": "code",
      "execution_count": null,
      "id": "a9a8c889-146e-4fd9-b713-94c66e72f7ba",
      "metadata": {
        "id": "a9a8c889-146e-4fd9-b713-94c66e72f7ba"
      },
      "outputs": [],
      "source": [
        "def load_learned_embed_in_clip(learned_embeds_path, text_encoder, tokenizer, token=None):\n",
        "  loaded_learned_embeds = torch.load(learned_embeds_path, map_location=\"cpu\")\n",
        "  \n",
        "  # separate token and the embeds\n",
        "  trained_token = list(loaded_learned_embeds.keys())[0]\n",
        "  embeds = loaded_learned_embeds[trained_token]\n",
        "\n",
        "  # cast to dtype of text_encoder\n",
        "  dtype = text_encoder.get_input_embeddings().weight.dtype\n",
        "  embeds.to(dtype)\n",
        "\n",
        "  # add the token in tokenizer\n",
        "  token = token if token is not None else trained_token\n",
        "  num_added_tokens = tokenizer.add_tokens(token)\n",
        "  if num_added_tokens == 0:\n",
        "    raise ValueError(f\"The tokenizer already contains the token {token}. Please pass a different `token` that is not already in the tokenizer.\")\n",
        "  \n",
        "  # resize the token embeddings\n",
        "  text_encoder.resize_token_embeddings(len(tokenizer))\n",
        "  \n",
        "  # get the id for the token and assign the embeds\n",
        "  token_id = tokenizer.convert_tokens_to_ids(token)\n",
        "  text_encoder.get_input_embeddings().weight.data[token_id] = embeds\n",
        "\n",
        "  print(trained_token)\n"
      ]
    },
    {
      "cell_type": "code",
      "execution_count": null,
      "id": "7498c2e1-bb9f-4517-af8e-788573f933e6",
      "metadata": {
        "id": "7498c2e1-bb9f-4517-af8e-788573f933e6"
      },
      "outputs": [],
      "source": [
        "embed_paths = [\n",
        "    \"wrong.bin\",\n",
        "    \"midjourney.bin\"\n",
        "]\n",
        "\n",
        "for embed in embed_paths:\n",
        "    load_learned_embed_in_clip(embed, text_encoder, tokenizer)"
      ]
    },
    {
      "cell_type": "code",
      "execution_count": null,
      "id": "2faf8218-42f9-4c16-a8f1-10e7091f992a",
      "metadata": {
        "id": "2faf8218-42f9-4c16-a8f1-10e7091f992a"
      },
      "outputs": [],
      "source": [
        "# Use the Euler scheduler here instead\n",
        "scheduler = EulerAncestralDiscreteScheduler.from_pretrained(model_id, subfolder=\"scheduler\")\n",
        "pipe = StableDiffusionPipeline.from_pretrained(model_id,\n",
        "                                               scheduler=scheduler,\n",
        "                                               text_encoder=text_encoder,\n",
        "                                               tokenizer=tokenizer,\n",
        "                                               revision=\"fp16\",\n",
        "                                               torch_dtype=torch.float16,\n",
        "                                               safety_checker=None)\n",
        "pipe = pipe.to(\"cuda\")"
      ]
    },
    {
      "cell_type": "code",
      "execution_count": null,
      "id": "45e78e98-775f-4de0-84c8-6221aecf1774",
      "metadata": {
        "id": "45e78e98-775f-4de0-84c8-6221aecf1774"
      },
      "outputs": [],
      "source": [
        "def latents_generator(seed=0):\n",
        "    g = torch.Generator(device='cuda')\n",
        "    g.manual_seed(seed)\n",
        "\n",
        "    latent_shape = (pipe.unet.in_channels,\n",
        "                    512 // pipe.vae_scale_factor,\n",
        "                    512 // pipe.vae_scale_factor)\n",
        "    latent = torch.randn(latent_shape, generator=g, device=\"cuda\")\n",
        "    latent_batched = torch.repeat_interleave(latent.unsqueeze(0), 3, dim=0).to('cuda')\n",
        "    return g, latent_batched\n"
      ]
    },
    {
      "cell_type": "code",
      "execution_count": null,
      "id": "99b9abc1-440b-40cc-a47a-35ba6f7d7a34",
      "metadata": {
        "id": "99b9abc1-440b-40cc-a47a-35ba6f7d7a34"
      },
      "outputs": [],
      "source": [
        "if not os.path.exists(\"fonts\"):\n",
        "    font_url = \"https://fonts.google.com/download?family=Source%20Code%20Pro\"\n",
        "    r = requests.get(font_url, allow_redirects=True)\n",
        "    open('fonts.zip', 'wb').write(r.content)\n",
        "\n",
        "    with zipfile.ZipFile('fonts.zip', 'r') as zip_ref:\n",
        "        zip_ref.extractall(\"fonts\")\n",
        "\n",
        "font = ImageFont.truetype(os.path.join('fonts', 'static', 'SourceCodePro-ExtraBold.ttf'), size=70)\n",
        "\n",
        "def label_generator(label_text, text_color, bg_color):\n",
        "    # Render at 2x then downsample for text AA\n",
        "    image = Image.new('RGB', (400, 100), bg_color)\n",
        "    image_editable = ImageDraw.Draw(image)\n",
        "    image_editable.text((10,5), label_text.upper(), text_color, font=font, align=\"left\")\n",
        "    image = image.resize((image.width // 2, image.height // 2))\n",
        "    return image"
      ]
    },
    {
      "cell_type": "code",
      "execution_count": null,
      "id": "43a2932e-bc9e-4877-803a-deefc5f3d485",
      "metadata": {
        "id": "43a2932e-bc9e-4877-803a-deefc5f3d485"
      },
      "outputs": [],
      "source": [
        "label_dict = {\n",
        "    \"original\": label_generator(\"original\", (0,0,0), (255,255,255)),\n",
        "    \"pos_prompt\": label_generator(\"prompt\", (255,255,255), (39,174,96)),\n",
        "    \"pos_token\": label_generator(\"<token>\", (255,255,255), (39,174,96)),\n",
        "    \"neg_prompt\": label_generator(\"prompt\", (255,255,255), (192,57,43)),\n",
        "    \"neg_token\": label_generator(\"<token>\", (255,255,255), (192,57,43)),\n",
        "\n",
        "}"
      ]
    },
    {
      "cell_type": "code",
      "execution_count": null,
      "id": "b80f8ec6-fab1-40a9-b0bb-8dcb42633223",
      "metadata": {
        "id": "b80f8ec6-fab1-40a9-b0bb-8dcb42633223"
      },
      "outputs": [],
      "source": [
        "def prompt_builder(keys):\n",
        "    return_dict = {\"prompt\": prompt_dict[\"original\"],\n",
        "                   \"negative_prompt\": \"\"}\n",
        "    for key in keys:\n",
        "        if key == \"original\":\n",
        "            break\n",
        "        else:\n",
        "            if \"pos\" in key:\n",
        "                return_dict[\"prompt\"] += f\", {prompt_dict[key]}\"\n",
        "            elif \"neg\" in key:\n",
        "                return_dict[\"negative_prompt\"] = prompt_dict[key]\n",
        "    return return_dict\n",
        "            "
      ]
    },
    {
      "cell_type": "code",
      "execution_count": null,
      "id": "f969e68e-5468-4215-9539-30fd45f5b3b5",
      "metadata": {
        "id": "f969e68e-5468-4215-9539-30fd45f5b3b5"
      },
      "outputs": [],
      "source": [
        "# probably don't have to hardcode it, but it's easier and ensures correct label order.\n",
        "grid_order=[\n",
        "    [\"original\"],\n",
        "    [\"pos_prompt\"],\n",
        "    [\"pos_token\"],\n",
        "    [\"neg_prompt\"],\n",
        "    [\"pos_prompt\", \"neg_prompt\"],\n",
        "    [\"pos_token\", \"neg_prompt\"],\n",
        "    [\"neg_token\"],\n",
        "    [\"pos_prompt\", \"neg_token\"],\n",
        "    [\"pos_token\", \"neg_token\"]\n",
        "]"
      ]
    },
    {
      "cell_type": "markdown",
      "source": [
        "The main cells for running inference for the Grid.\n",
        "\n",
        "`seed` can be an integer or a list of integers (e.g. `seed=[3**8, 3**9, 3**10, 3**11, 3**12]`); if a list, it will generate a grid for each seed.\n",
        "\n",
        "Grids will be saved in the sidebar by seed; individual images without the labels will be saved in the `individual_outputs` folder."
      ],
      "metadata": {
        "id": "R_nHJwKoprS9"
      },
      "id": "R_nHJwKoprS9"
    },
    {
      "cell_type": "code",
      "execution_count": null,
      "id": "c7c9768b-3643-4bdc-b927-ee95e2502860",
      "metadata": {
        "id": "c7c9768b-3643-4bdc-b927-ee95e2502860"
      },
      "outputs": [],
      "source": [
        "seed = 19683\n",
        "base_prompt = \"a evil robot on the front page of the New York Times\"\n",
        "\n",
        "pos_prompt = \"hyper-detailed and intricate, realistic shaded, fine detail, realistic proportions, symmetrical, sharp focus, 8K resolution\"\n",
        "pos_token = \"in the style of <midjourney>\"\n",
        "neg_prompt = \"ugly, boring, bad anatomy\"\n",
        "neg_token = \"in the style of <wrong>\""
      ]
    },
    {
      "cell_type": "code",
      "execution_count": null,
      "id": "bea34b6d-aa0a-4c3c-a160-15d7e5e49797",
      "metadata": {
        "id": "bea34b6d-aa0a-4c3c-a160-15d7e5e49797"
      },
      "outputs": [],
      "source": [
        "prompt_dict = {\n",
        "    \"original\": base_prompt,\n",
        "    \"pos_prompt\": pos_prompt,\n",
        "    \"pos_token\": pos_token,\n",
        "    \"neg_prompt\": neg_prompt,\n",
        "    \"neg_token\": neg_token,\n",
        "\n",
        "}\n",
        "\n",
        "if isinstance(seed, int):\n",
        "    seed = [seed]\n",
        "    \n",
        "if not os.path.exists(\"individual_outputs\"):\n",
        "    os.mkdir(\"individual_outputs\")\n",
        "\n",
        "for rng_seed in seed:\n",
        "    print(f\"Seed used: {rng_seed}\")\n",
        "    \n",
        "    raw_outputs = []\n",
        "    all_images = []\n",
        "    \n",
        "    g, latent_batched = latents_generator(rng_seed)\n",
        "    for row in range(3):\n",
        "        key_lists = grid_order[(row * 3) : (row * 3 + 3)]\n",
        "        prompt_dicts = [prompt_builder(x) for x in key_lists]\n",
        "        prompts = [x[\"prompt\"] for x in prompt_dicts]\n",
        "        negative_prompts = [x[\"negative_prompt\"] for x in prompt_dicts]\n",
        "        with torch.autocast(\"cuda\"):\n",
        "            g.manual_seed(rng_seed)  # reset seed before generation for deterministic sampling\n",
        "            images = pipe(prompt=prompts,\n",
        "                          negative_prompt=negative_prompts,\n",
        "                          latents=latent_batched,\n",
        "                          generator=g,\n",
        "                          num_inference_steps=50, guidance_scale=7.5)[\"images\"]\n",
        "            \n",
        "            # collect the unlabeled images for individual saving\n",
        "            raw_outputs.extend(deepcopy(images))\n",
        "\n",
        "            # paste label images onto each generated image\n",
        "            for i in range(len(images)):\n",
        "                labels = [label_dict[x] for x in key_lists[i]]\n",
        "                label_vstack = image_grid(labels, len(labels), 1)\n",
        "                images[i].paste(label_vstack)\n",
        "\n",
        "            all_images.extend(images)\n",
        "            image_large = image_grid(images, 1, 3)\n",
        "            display(image_large.resize((image_large.width // 2, image_large.height // 2)))\n",
        "\n",
        "    grid = image_grid(all_images, 3, 3)\n",
        "    grid.save(f\"promptgrid_seed_{rng_seed}.png\")\n",
        "    \n",
        "    for i, image in enumerate(raw_outputs):\n",
        "        image.save(os.path.join(\"individual_outputs\", f\"seed_{rng_seed}_{i+1:02d}.png\"))"
      ]
    },
    {
      "cell_type": "markdown",
      "source": [
        "---\n",
        "\n",
        "MIT License\n",
        "\n",
        "Copyright (c) 2022 Max Woolf\n",
        "\n",
        "Permission is hereby granted, free of charge, to any person obtaining a copy\n",
        "of this software and associated documentation files (the \"Software\"), to deal\n",
        "in the Software without restriction, including without limitation the rights\n",
        "to use, copy, modify, merge, publish, distribute, sublicense, and/or sell\n",
        "copies of the Software, and to permit persons to whom the Software is\n",
        "furnished to do so, subject to the following conditions:\n",
        "\n",
        "The above copyright notice and this permission notice shall be included in all\n",
        "copies or substantial portions of the Software.\n",
        "\n",
        "THE SOFTWARE IS PROVIDED \"AS IS\", WITHOUT WARRANTY OF ANY KIND, EXPRESS OR\n",
        "IMPLIED, INCLUDING BUT NOT LIMITED TO THE WARRANTIES OF MERCHANTABILITY,\n",
        "FITNESS FOR A PARTICULAR PURPOSE AND NONINFRINGEMENT. IN NO EVENT SHALL THE\n",
        "AUTHORS OR COPYRIGHT HOLDERS BE LIABLE FOR ANY CLAIM, DAMAGES OR OTHER\n",
        "LIABILITY, WHETHER IN AN ACTION OF CONTRACT, TORT OR OTHERWISE, ARISING FROM,\n",
        "OUT OF OR IN CONNECTION WITH THE SOFTWARE OR THE USE OR OTHER DEALINGS IN THE\n",
        "SOFTWARE.\n"
      ],
      "metadata": {
        "id": "Fywap9Q3pmAn"
      },
      "id": "Fywap9Q3pmAn"
    }
  ],
  "metadata": {
    "environment": {
      "kernel": "python3",
      "name": "common-cu110.m100",
      "type": "gcloud",
      "uri": "gcr.io/deeplearning-platform-release/base-cu110:m100"
    },
    "kernelspec": {
      "display_name": "Python 3",
      "language": "python",
      "name": "python3"
    },
    "language_info": {
      "codemirror_mode": {
        "name": "ipython",
        "version": 3
      },
      "file_extension": ".py",
      "mimetype": "text/x-python",
      "name": "python",
      "nbconvert_exporter": "python",
      "pygments_lexer": "ipython3",
      "version": "3.7.12"
    },
    "colab": {
      "provenance": []
    },
    "accelerator": "GPU",
    "gpuClass": "standard"
  },
  "nbformat": 4,
  "nbformat_minor": 5
}