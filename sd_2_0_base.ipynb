{
 "cells": [
  {
   "cell_type": "code",
   "execution_count": 1,
   "id": "8c617c49-1e57-455d-9776-a96a26cfc93a",
   "metadata": {},
   "outputs": [],
   "source": [
    "from diffusers import StableDiffusionPipeline, EulerAncestralDiscreteScheduler\n",
    "import torch\n",
    "from PIL import Image\n",
    "import os\n",
    "from transformers import CLIPTextModel, CLIPTokenizer\n",
    "\n",
    "model_id = \"stabilityai/stable-diffusion-2-base\"\n",
    "\n",
    "def image_grid(imgs, rows, cols):\n",
    "    assert len(imgs) == rows*cols\n",
    "\n",
    "    w, h = imgs[0].size\n",
    "    grid = Image.new('RGB', size=(cols*w, rows*h))\n",
    "    grid_w, grid_h = grid.size\n",
    "    \n",
    "    for i, img in enumerate(imgs):\n",
    "        grid.paste(img, box=(i%cols*w, i//cols*h))\n",
    "    return grid"
   ]
  },
  {
   "cell_type": "code",
   "execution_count": 2,
   "id": "345ebdfc-e912-4053-8b4c-31c481b3f74f",
   "metadata": {},
   "outputs": [
    {
     "name": "stderr",
     "output_type": "stream",
     "text": [
      "ftfy or spacy is not installed using BERT BasicTokenizer instead of ftfy.\n"
     ]
    }
   ],
   "source": [
    "tokenizer = CLIPTokenizer.from_pretrained(\n",
    "    model_id,\n",
    "    subfolder=\"tokenizer\",\n",
    "    use_auth_token=True,\n",
    ")\n",
    "text_encoder = CLIPTextModel.from_pretrained(\n",
    "    model_id, subfolder=\"text_encoder\", use_auth_token=True\n",
    ")\n",
    "\n",
    "vocab_size = tokenizer.vocab_size"
   ]
  },
  {
   "cell_type": "code",
   "execution_count": 3,
   "id": "a9a8c889-146e-4fd9-b713-94c66e72f7ba",
   "metadata": {},
   "outputs": [],
   "source": [
    "def load_learned_embed_in_clip(learned_embeds_path, text_encoder, tokenizer, token=None):\n",
    "  loaded_learned_embeds = torch.load(learned_embeds_path, map_location=\"cpu\")\n",
    "  \n",
    "  # separate token and the embeds\n",
    "  trained_token = list(loaded_learned_embeds.keys())[0]\n",
    "  embeds = loaded_learned_embeds[trained_token]\n",
    "\n",
    "  # cast to dtype of text_encoder\n",
    "  dtype = text_encoder.get_input_embeddings().weight.dtype\n",
    "  embeds.to(dtype)\n",
    "\n",
    "  # add the token in tokenizer\n",
    "  token = token if token is not None else trained_token\n",
    "  num_added_tokens = tokenizer.add_tokens(token)\n",
    "  if num_added_tokens == 0:\n",
    "    raise ValueError(f\"The tokenizer already contains the token {token}. Please pass a different `token` that is not already in the tokenizer.\")\n",
    "  \n",
    "  # resize the token embeddings\n",
    "  text_encoder.resize_token_embeddings(len(tokenizer))\n",
    "  \n",
    "  # get the id for the token and assign the embeds\n",
    "  token_id = tokenizer.convert_tokens_to_ids(token)\n",
    "  text_encoder.get_input_embeddings().weight.data[token_id] = embeds\n",
    "\n",
    "  print(trained_token)\n"
   ]
  },
  {
   "cell_type": "code",
   "execution_count": 4,
   "id": "7498c2e1-bb9f-4517-af8e-788573f933e6",
   "metadata": {},
   "outputs": [
    {
     "name": "stdout",
     "output_type": "stream",
     "text": [
      "<ugly-sonic>\n",
      "<wrong>\n"
     ]
    }
   ],
   "source": [
    "embed_paths = [\n",
    "    \"ugly_sonic_sd_2_0.bin\",\n",
    "    \"wrong_sd_2_0.bin\",\n",
    "    ]\n",
    "\n",
    "for embed in embed_paths:\n",
    "    load_learned_embed_in_clip(embed, text_encoder, tokenizer)"
   ]
  },
  {
   "cell_type": "code",
   "execution_count": 5,
   "id": "2faf8218-42f9-4c16-a8f1-10e7091f992a",
   "metadata": {},
   "outputs": [
    {
     "data": {
      "application/vnd.jupyter.widget-view+json": {
       "model_id": "3ed2d9cee85c4a0c94a5080683177320",
       "version_major": 2,
       "version_minor": 0
      },
      "text/plain": [
       "Fetching 12 files:   0%|          | 0/12 [00:00<?, ?it/s]"
      ]
     },
     "metadata": {},
     "output_type": "display_data"
    },
    {
     "name": "stderr",
     "output_type": "stream",
     "text": [
      "You have disabled the safety checker for <class 'diffusers.pipelines.stable_diffusion.pipeline_stable_diffusion.StableDiffusionPipeline'> by passing `safety_checker=None`. Ensure that you abide to the conditions of the Stable Diffusion license and do not expose unfiltered results in services or applications open to the public. Both the diffusers team and Hugging Face strongly recommend to keep the safety filter enabled in all public facing circumstances, disabling it only for use-cases that involve analyzing network behavior or auditing its results. For more information, please have a look at https://github.com/huggingface/diffusers/pull/254 .\n"
     ]
    }
   ],
   "source": [
    "# Use the Euler scheduler here instead\n",
    "scheduler = EulerAncestralDiscreteScheduler.from_pretrained(model_id, subfolder=\"scheduler\")\n",
    "pipe = StableDiffusionPipeline.from_pretrained(model_id,\n",
    "                                               scheduler=scheduler,\n",
    "                                               text_encoder=text_encoder,\n",
    "                                               tokenizer=tokenizer,\n",
    "                                               revision=\"fp16\",\n",
    "                                               torch_dtype=torch.float16,\n",
    "                                               safety_checker=None)\n",
    "pipe = pipe.to(\"cuda\")"
   ]
  },
  {
   "cell_type": "code",
   "execution_count": null,
   "id": "bea34b6d-aa0a-4c3c-a160-15d7e5e49797",
   "metadata": {},
   "outputs": [],
   "source": [
    "prompt = \"Twitter brand logo combusting into flames, 3d rendering\"\n",
    "negative_prompt =  None\n",
    "negative_prompt = \"in the style of <wrong>\"\n",
    "num_samples = 4  # may have to set to 2 in Colab to avoid OOM.\n",
    "num_rows = 4\n",
    "\n",
    "all_images = [] \n",
    "for _ in range(num_rows):\n",
    "    with torch.autocast(\"cuda\"):\n",
    "        images = pipe(prompt,\n",
    "                      negative_prompt=negative_prompt,\n",
    "                      num_images_per_prompt=num_samples,\n",
    "                      num_inference_steps=50, guidance_scale=7.5).images\n",
    "        all_images.extend(images)\n",
    "        image_large = image_grid(images, 1, num_samples)\n",
    "        display(image_large.resize((image_large.width // 2, image_large.height // 2)))\n",
    "        \n",
    "grid = image_grid(all_images, num_samples, num_rows)\n",
    "grid.save(\"grid.png\")"
   ]
  },
  {
   "cell_type": "code",
   "execution_count": 25,
   "id": "2cc062aa-997f-4905-add2-9d1dec445b8c",
   "metadata": {},
   "outputs": [],
   "source": [
    "if not os.path.exists(\"outputs\"):\n",
    "    os.mkdir(\"outputs\")\n",
    "\n",
    "prompt_folder = prompt.replace(\"/\", \"_\")[0:128]\n",
    "\n",
    "if not os.path.exists(os.path.join(\"outputs\", prompt_folder)):\n",
    "    os.mkdir(os.path.join(\"outputs\", prompt_folder))\n",
    "\n",
    "for i, image in enumerate(all_images):\n",
    "    image.save(os.path.join(\"outputs\", prompt_folder, f\"{i+1:02d}.png\"))"
   ]
  },
  {
   "cell_type": "code",
   "execution_count": null,
   "id": "0fc03dc2-e17e-4b7b-9657-3419098f8cfa",
   "metadata": {},
   "outputs": [],
   "source": []
  }
 ],
 "metadata": {
  "environment": {
   "kernel": "python3",
   "name": "common-cu110.m100",
   "type": "gcloud",
   "uri": "gcr.io/deeplearning-platform-release/base-cu110:m100"
  },
  "kernelspec": {
   "display_name": "Python 3",
   "language": "python",
   "name": "python3"
  },
  "language_info": {
   "codemirror_mode": {
    "name": "ipython",
    "version": 3
   },
   "file_extension": ".py",
   "mimetype": "text/x-python",
   "name": "python",
   "nbconvert_exporter": "python",
   "pygments_lexer": "ipython3",
   "version": "3.7.12"
  }
 },
 "nbformat": 4,
 "nbformat_minor": 5
}
