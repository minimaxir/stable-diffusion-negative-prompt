{
 "cells": [
  {
   "cell_type": "code",
   "execution_count": null,
   "id": "8c617c49-1e57-455d-9776-a96a26cfc93a",
   "metadata": {},
   "outputs": [],
   "source": [
    "from diffusers import StableDiffusionPipeline, EulerAncestralDiscreteScheduler, EulerDiscreteScheduler\n",
    "import torch\n",
    "from PIL import Image\n",
    "import os\n",
    "\n",
    "model_id = \"stabilityai/stable-diffusion-2-base\""
   ]
  },
  {
   "cell_type": "code",
   "execution_count": null,
   "id": "2faf8218-42f9-4c16-a8f1-10e7091f992a",
   "metadata": {},
   "outputs": [],
   "source": [
    "# Use the Euler scheduler here instead\n",
    "scheduler = EulerAncestralDiscreteScheduler.from_pretrained(model_id, subfolder=\"scheduler\")\n",
    "pipe = StableDiffusionPipeline.from_pretrained(model_id,\n",
    "                                               scheduler=scheduler,\n",
    "                                               revision=\"fp16\",\n",
    "                                               torch_dtype=torch.float16,\n",
    "                                               safety_checker=None)\n",
    "pipe = pipe.to(\"cuda\")"
   ]
  },
  {
   "cell_type": "code",
   "execution_count": null,
   "id": "bea34b6d-aa0a-4c3c-a160-15d7e5e49797",
   "metadata": {},
   "outputs": [],
   "source": [
    "prompt = \"lowres, bad hands, text, error, missing fingers, extra digit, fewer digits, cropped, worst quality, low quality, normal quality, jpeg artifacts, signature, watermark, username, blurry, ((((ugly)))), (((duplicate))), ((morbid)), ((mutilated))\"\n",
    "num_samples = 4 \n",
    "\n",
    "if not os.path.exists(\"wrong_images\"):\n",
    "    os.mkdir(\"wrong_images\")\n",
    "\n",
    "i = 0\n",
    "for cfg in range(7, 20+1):\n",
    "    with torch.autocast(\"cuda\"):\n",
    "        images = pipe(prompt,\n",
    "                      negative_prompt=None,\n",
    "                      num_images_per_prompt=num_samples,\n",
    "                      num_inference_steps=50, guidance_scale=cfg).images\n",
    "\n",
    "        for image in images:\n",
    "            image.save(os.path.join(\"wrong_images\", f\"{i:03d}.png\"))\n",
    "            i += 1\n",
    "        "
   ]
  }
 ],
 "metadata": {
  "environment": {
   "kernel": "python3",
   "name": "common-cu110.m100",
   "type": "gcloud",
   "uri": "gcr.io/deeplearning-platform-release/base-cu110:m100"
  },
  "kernelspec": {
   "display_name": "Python 3",
   "language": "python",
   "name": "python3"
  },
  "language_info": {
   "codemirror_mode": {
    "name": "ipython",
    "version": 3
   },
   "file_extension": ".py",
   "mimetype": "text/x-python",
   "name": "python",
   "nbconvert_exporter": "python",
   "pygments_lexer": "ipython3",
   "version": "3.7.12"
  }
 },
 "nbformat": 4,
 "nbformat_minor": 5
}
